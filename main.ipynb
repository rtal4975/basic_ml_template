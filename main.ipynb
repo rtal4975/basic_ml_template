{
 "cells": [
  {
   "cell_type": "markdown",
   "metadata": {},
   "source": [
    "# VI Model\n",
    "(This is essentially a recreation of main.py)"
   ]
  },
  {
   "cell_type": "code",
   "execution_count": null,
   "metadata": {},
   "outputs": [
    {
     "ename": "",
     "evalue": "",
     "output_type": "error",
     "traceback": [
      "\u001b[1;31mRunning cells with 'py38_tf (Python 3.8.20)' requires the ipykernel package.\n",
      "\u001b[1;31mRun the following command to install 'ipykernel' into the Python environment. \n",
      "\u001b[1;31mCommand: 'conda install -n py38_tf ipykernel --update-deps --force-reinstall'"
     ]
    }
   ],
   "source": [
    "### globals\n",
    "import os, sys\n",
    "import time, datetime\n",
    "import numpy as np\n",
    "import pandas as pd\n",
    "import pdb\n",
    "\n",
    "### locals\n",
    "import preprocessing as my_pp\n",
    "import modelling as my_nn\n",
    "import main"
   ]
  },
  {
   "cell_type": "markdown",
   "metadata": {},
   "source": [
    "Now define constants"
   ]
  },
  {
   "cell_type": "code",
   "execution_count": null,
   "metadata": {},
   "outputs": [],
   "source": [
    "data_filepath = None # REPLACE WITH REAL DATA FILEPATH\n",
    "use_fake = True # SET TO TRUE WHEN USING REAL DATA\n",
    "debug = True\n",
    "\n",
    "# make output dir\n",
    "output_tag = datetime.datetime.now().strftime(\"%Y%m%d_%H%M%S\")\n",
    "output_directory = os.path.join('output', output_tag)\n",
    "os.makedirs(output_directory)"
   ]
  },
  {
   "cell_type": "markdown",
   "metadata": {},
   "source": [
    "Now just run the main.main() method"
   ]
  },
  {
   "cell_type": "code",
   "execution_count": null,
   "metadata": {},
   "outputs": [],
   "source": [
    "modelling_history = main(output_directory, data_filepath, use_fake, debug)"
   ]
  }
 ],
 "metadata": {
  "kernelspec": {
   "display_name": "work",
   "language": "python",
   "name": "python3"
  },
  "language_info": {
   "name": "python",
   "version": "3.7.13"
  }
 },
 "nbformat": 4,
 "nbformat_minor": 2
}
